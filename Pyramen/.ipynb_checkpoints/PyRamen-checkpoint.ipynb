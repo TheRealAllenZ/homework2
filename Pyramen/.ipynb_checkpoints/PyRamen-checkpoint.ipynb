{
 "cells": [
  {
   "cell_type": "code",
   "execution_count": 149,
   "id": "missing-gasoline",
   "metadata": {},
   "outputs": [],
   "source": [
    "#initialize and import liabraries. Working with module - \"Import\" and file handling \"pathlib.\" CSV is the file type, so it is denoted as \"import csv\"\n",
    "\n",
    "import csv\n",
    "from pathlib import Path\n"
   ]
  },
  {
   "cell_type": "code",
   "execution_count": 150,
   "id": "affiliated-penalty",
   "metadata": {},
   "outputs": [],
   "source": [
    "menu_filepath = Path('Resources/menu_data.csv')\n",
    "sales_filepath = Path('Resources/sales_data.csv')\n"
   ]
  },
  {
   "cell_type": "code",
   "execution_count": 174,
   "id": "respective-cause",
   "metadata": {},
   "outputs": [],
   "source": [
    "# Initialize list objects to hold our menu and sales data\n",
    "menu = []\n",
    "sales = []\n",
    "\n",
    "# ^Null Sets for both. Creating the varaible to begin to hold data - EXCITING !"
   ]
  },
  {
   "cell_type": "code",
   "execution_count": 213,
   "id": "molecular-bacon",
   "metadata": {},
   "outputs": [
    {
     "name": "stdout",
     "output_type": "stream",
     "text": [
      "['house salad', 'appetizers', 'mixed greens, cherry tomatoes, cucumber, house ginger dressing', '4', '2']\n",
      "['cucumber sunomono salad', 'appetizers', 'cucumber, ponzu dressing, pickled ginger sproud, sesame seeds', '5', '2']\n",
      "['hiyashi wakame seaweed salad', 'appetizers', 'sweet soy-marinated wakame seaweed threads, pickled ginger sprout, sesame seeds', '5', '2']\n",
      "['agedashi tofu', 'appetizers', 'tempura battered tofu, katsuobushi, tsuyu broth, scallions', '5', '2']\n",
      "['hiyayakko tofu', 'appetizers', 'chilled soft tofu, house shoyu, katsuobushi, ginger, scallions', '5', '2']\n",
      "['pork floss bao', 'appetizers', 'two steamed buns, minced lean slow braised niman, ranch pork belly, cucumbers, sriracha mayo', '4', '2']\n",
      "['kakuni bao', 'appetizers', 'two steamed buns, chopped fatty slow braised niman ranch pork belly, cucumbers, house bao sauce', '6', '3']\n",
      "['edamame fried gyoza (vegan)', 'appetizers', 'six crispy fried edamame and cabbage pot stickers; ponzu rayu dipping sauce', '6', '3']\n",
      "['fried gyoza', 'appetizers', 'six cripsy fried pork and vegetable pot stickers; ponzu rayu dipping sauce', '6', '6']\n",
      "['takoyaki', 'appetizers', 'six octopus-filled fried fritters, kewpie mayo, okonomi sauce, aonori, katsuobushi, nori', '6', '3']\n",
      "['rock shrimp tempura', 'appetizers', 'deep fried tempura battered rock shrimp, sriracha mayo, nisume sauce, aonori, scallions', '6', '3']\n",
      "['soft-shell crab tempura', 'appetizers', 'single deep fried soft-shell crab, tsuyu dipping broth', '6', '3']\n",
      "['ebi katsu shrimp bao', 'appetizers', 'two steamed buns, panko-crusted fried shrimp patties, yuzu-kosho mayo, aonori, scallions', '6', '3']\n",
      "['nagomi shoyu', 'entree', 'shoyu seasoned clear double stock (organic chick broth + house dashi); slow braised niman ranch pork belly, hanjuku tamago, nori, menma, scallions', '11', '5']\n",
      "['shio ramen', 'entree', 'sea salt seasoned clear double stock (organic chicken broth + house dashi); slow braised niman ranch pork belly, hanjuku tamago, kikurage, nori, scallions', '11', '5']\n",
      "['spicy miso ramen', 'entree', 'house togarashi miso blend + niman ranch pork bone stock; slow braised niman ranch pork belly, hanjuku tamago, kikurage, nori, scallions', '12', '5']\n",
      "['vegetarian spicy miso', 'entree', 'house togarashi miso blend + vegan dashi; tempura fried tofu, sweet corn, edamame, kikurage, nori, scallions; organic soy milk upon request', '12', '5']\n",
      "['miso crab ramen', 'entree', 'house miso crab blend + vegan dashi; slow braised niman ranch pork belly, crab meat, hanjuku tamago, kikurage, nori, scallions', '12', '6']\n",
      "['soft-shell miso crab ramen', 'entree', 'house miso crab blend + vegan dashi; fried whole soft-shell crab, hanjuku tamago, kikurage, nori, scallions', '14', '7']\n",
      "['tori paitan ramen', 'entree', 'rich, shoyu seasoned double stock (organic chicken broth + house dashi); slow braised niman ranch pork belly, hanuku tamago, kikurage, nori, scllaions', '13', '6']\n",
      "['tonkotsu ramen', 'entree', 'rich, shoyi seasoned niman ranch pork bone stock; slow braised niman ranch pork belly, hanjuku tamago, kikurage, nori, spring radish, scallions', '13', '6']\n",
      "['burnt garlic tonkotsu ramen', 'entree', 'rich, shoyi and burnt garlic seasoned niman ranch pork bone stock; slow braised niman ranch pork belly, hanjuku tamago, kikurage, sweet corn, nori, scallions', '14', '6']\n",
      "['vegetarian curry + king trumpet mushroom ramen', 'entree', 'house curry blend + vegan dashi; fried king trumpet mushroom, tempura fried tofu, mung bean sprouts, kikurage, nori, scallions', '13', '7']\n",
      "['truffle butter ramen', 'entree', 'rich, shoyu seasoned niman ranch prok bone stock; truffle compound butter, slow braised niman ranch pork belly, kikurage, sweet corn, nori, scallions', '14', '7']\n",
      "['green tea', 'drinks', 'green tea', '2.5', '1']\n",
      "['coke', 'drinks', 'Coca Cola soda', '2', '1']\n",
      "['black sesame ice cream', 'desserts', 'house-made black sesame ice cream, valrhona chocolate threads, complimentary hojicha', '5', '2']\n",
      "['matcha ice cream', 'desserts', 'house-made matcha ice cream, white chocolate pearls; complimentary hojicha', '5', '2']\n",
      "['mango mochi ice cream', 'desserts', 'two rice-cake bonbons filled with strawberry ice cream; complimentary hojicha', '5', '2']\n",
      "['strawberry mochi ice cream', 'desserts', 'two rice-cake bonbons filled with strawberry ice cream; complimentary hojicha', '5', '2']\n",
      "['black sesame creme brulee', 'desserts', 'house made black sesame infused creme brulee; complimentary hojicha', '6', '3']\n"
     ]
    }
   ],
   "source": [
    "# Open Files \n",
    "\n",
    "with open(menu_filepath) as csv_menu:\n",
    "    reader = csv.reader(csv_menu, delimiter=\",\")\n",
    "    header = next(reader)\n",
    "    first_row = next(reader)\n",
    "\n",
    "    for i in reader:\n",
    "        print(i)\n",
    "        "
   ]
  },
  {
   "cell_type": "code",
   "execution_count": null,
   "id": "under-harrison",
   "metadata": {},
   "outputs": [],
   "source": [
    "with open(sales_filepath) as sales:    \n",
    "    reader = csv.reader(sales)\n",
    "    header = next(reader)\n",
    "    first_row = next(reader)\n",
    "\n",
    "    "
   ]
  },
  {
   "cell_type": "code",
   "execution_count": null,
   "id": "fleet-sector",
   "metadata": {},
   "outputs": [],
   "source": [
    "report = {}  #Contains the output from data querying "
   ]
  }
 ],
 "metadata": {
  "kernelspec": {
   "display_name": "Python 3",
   "language": "python",
   "name": "python3"
  },
  "language_info": {
   "codemirror_mode": {
    "name": "ipython",
    "version": 3
   },
   "file_extension": ".py",
   "mimetype": "text/x-python",
   "name": "python",
   "nbconvert_exporter": "python",
   "pygments_lexer": "ipython3",
   "version": "3.7.9"
  }
 },
 "nbformat": 4,
 "nbformat_minor": 5
}
