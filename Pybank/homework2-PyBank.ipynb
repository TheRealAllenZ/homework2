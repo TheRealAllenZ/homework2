{
 "cells": [
  {
   "cell_type": "code",
   "execution_count": 15,
   "id": "vocal-indian",
   "metadata": {},
   "outputs": [],
   "source": [
    "# PyBank - with Sammy's Help. \n",
    "\n",
    "#Import function keys in python to its operation \n",
    "#Pathlib likewise activates the module that allows python to natively navigate file directories on local Machine\n",
    "\n",
    "import csv\n",
    "from pathlib import Path"
   ]
  },
  {
   "cell_type": "code",
   "execution_count": 29,
   "id": "offshore-current",
   "metadata": {},
   "outputs": [],
   "source": [
    "load_path = Path('budget_data.csv')  #using localized filepath within my local machine's file directory structure\n",
    "output_path = Path('budget_analysis.txt')  #First created this TXT file, the pointed python to perform functions external to source file"
   ]
  },
  {
   "cell_type": "code",
   "execution_count": 30,
   "id": "alternative-quarterly",
   "metadata": {},
   "outputs": [],
   "source": [
    "# initialize financial params - define my variables \n",
    "total_months = 0 \n",
    "month_of_change = [] \n",
    "net_change_list = [] \n",
    "greatest_increase = ['', 0] #a list - denoting \"\" blank values - as they have yet to be assigned, and =0 for the actual greatest delta. \n",
    "greatest_decrease = ['', 9999999999999999]   #also a list, denoting \"\" blank values - a date which have yet to be found, and =999999999999, largest delta which would be a negative. Though, it can also still be set to 0.\n",
    "total_net = 0"
   ]
  },
  {
   "cell_type": "code",
   "execution_count": 45,
   "id": "systematic-price",
   "metadata": {},
   "outputs": [],
   "source": [
    "with open(load_path) as financial_data: # >>> \"with\" command updated in python to handle file selection (removing open / close as separate functions)\n",
    "    reader = csv.reader(financial_data) #Using Python's CSV .reader native function to initialize an \"object\" for Python to read \n",
    "    header = next(reader) # skip the first column and assigning header to the next column \n",
    "    \n",
    "    first_row = next(reader)  #Skip the first row (header / label) \n",
    "    total_months += 1 #iterating and advancing the months column by adding 1 month to each itself, \"total_months\" then adding 1= to find the total # of months\n",
    "    total_net += int(first_row[1]) #adding the previous total to the new total (assigned at Column 1).\n",
    "    prev_net = int(first_row[1])  # finding the previous total without the current month's total included (assigned at column 1). \n",
    "  \n",
    "# Creating a ForLoop to run through all the numbers in the file by row\n",
    "    for row in reader:\n",
    "            total_months += 1 #incrementing the # of months + 1 more to find the final # of months. \n",
    "            total_net += int(row[1]) # finding total net values by adding the previous value on top of the current value- to find the entire Net Total of the entire column\n",
    "\n",
    "            #Monthly delta (or change) is accessed by the subtracting the next month's value from the previous month's value. \n",
    "            net_change = int(row[1]) - prev_net\n",
    "            #Every instance of net change is stored as a new function as the delta (or net change) changes from month to month.\n",
    "            prev_net = int(row[1]) \n",
    "            net_change_list += [net_change]  #creating a list - to store the month to month changes, (i.e. the \"delta\") as it changes every month.  Instead of a final number, the net_change_list will capture each delta as a separate value outside of the CSV file\n",
    "            month_of_change += [row[0]] \n",
    "\n",
    "            #  greatest increase\n",
    "            if net_change > greatest_increase[1]:\n",
    "                greatest_increase[0] = row[0] \n",
    "                greatest_increase[1] = net_change \n",
    "\n",
    "            #  greatest decrease\n",
    "            if net_change < greatest_decrease[1]:\n",
    "                greatest_decrease[0] = row[0]\n",
    "                greatest_decrease[1] = net_change \n",
    "\n"
   ]
  },
  {
   "cell_type": "code",
   "execution_count": 46,
   "id": "social-danish",
   "metadata": {},
   "outputs": [
    {
     "name": "stdout",
     "output_type": "stream",
     "text": [
      "-2315.1176470588234\n"
     ]
    }
   ],
   "source": [
    "net_monthly_avg = sum(net_change_list)/len(net_change_list)\n",
    "print(net_monthly_avg)"
   ]
  },
  {
   "cell_type": "code",
   "execution_count": 49,
   "id": "coupled-american",
   "metadata": {},
   "outputs": [],
   "source": [
    "#using \"with open\" command and \"w\" flag - to append \"write\" to the new text file with the information gathered from the previous lines of computation. \n",
    "\n",
    "with open(output_path, 'w') as txt_file:\n",
    "    txt_file.write(f'Financial Analysis\\n') \n",
    "    txt_file.write(f'---------------------------\\n')\n",
    "    txt_file.write(f'Total Months: {total_months}\\n')\n",
    "    txt_file.write(f'The Month of Change: {month_of_change}\\n')\n",
    "    txt_file.write(f'The Net Change List: {net_change_list}\\n')\n",
    "    txt_file.write(f'The Greatest Increase: {greatest_increase}\\n')\n",
    "    txt_file.write(f'The Greatest Decrease: {greatest_decrease}\\n')\n",
    "    txt_file.write(f'The Total Profit: {total_net}\\n')\n",
    "    txt_file.write(f'The Average Monthly Change: {net_monthly_avg}\\n')"
   ]
  },
  {
   "cell_type": "markdown",
   "id": "particular-madison",
   "metadata": {},
   "source": [
    "# Additional Resources cited \n",
    "\n",
    "1. Sammy\n",
    "2. https://cmdlinetips.com/2016/01/opening-a-file-in-python-using-with-statement/\n",
    "3. https://www.pythonforbeginners.com/csv/using-the-csv-module-in-python"
   ]
  }
 ],
 "metadata": {
  "kernelspec": {
   "display_name": "Python 3",
   "language": "python",
   "name": "python3"
  },
  "language_info": {
   "codemirror_mode": {
    "name": "ipython",
    "version": 3
   },
   "file_extension": ".py",
   "mimetype": "text/x-python",
   "name": "python",
   "nbconvert_exporter": "python",
   "pygments_lexer": "ipython3",
   "version": "3.7.9"
  }
 },
 "nbformat": 4,
 "nbformat_minor": 5
}
